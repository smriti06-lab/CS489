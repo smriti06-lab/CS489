{
  "nbformat": 4,
  "nbformat_minor": 0,
  "metadata": {
    "colab": {
      "provenance": []
    },
    "kernelspec": {
      "name": "python3",
      "display_name": "Python 3"
    },
    "language_info": {
      "name": "python"
    }
  },
  "cells": [
    {
      "cell_type": "code",
      "source": [
        "!pip install pydub\n",
        "!pip install mutagen"
      ],
      "metadata": {
        "id": "7xfKmS4fEQ7N"
      },
      "execution_count": null,
      "outputs": []
    },
    {
      "cell_type": "code",
      "source": [
        "!pip install sox"
      ],
      "metadata": {
        "id": "bd5yPyGhMX94"
      },
      "execution_count": null,
      "outputs": []
    },
    {
      "cell_type": "code",
      "source": [
        "!apt-get install sox"
      ],
      "metadata": {
        "id": "9g7LmAQ8N5O8"
      },
      "execution_count": null,
      "outputs": []
    },
    {
      "cell_type": "code",
      "source": [
        "import numpy as np\n",
        "from tqdm import tqdm\n",
        "from mutagen.mp3 import MP3\n",
        "from mutagen.easyid3 import EasyID3\n",
        "from pydub import AudioSegment\n",
        "from argparse import ArgumentParser\n",
        "import librosa\n",
        "import sox"
      ],
      "metadata": {
        "id": "vwlxwDx5EzOL"
      },
      "execution_count": 42,
      "outputs": []
    },
    {
      "cell_type": "code",
      "source": [
        "# Input methods\n",
        "#waveform and sampleing rate\n",
        "wav_mono, sampling_rate = librosa.load(file_name, duration=270)\n",
        "\n",
        "#wavform and sampling rate, need wav stereo\n",
        "wav_stereo, sampling_rate = librosa.load(file_name, mono=False, duration=270)\n",
        "\n",
        "#tempo and beatframes\n",
        "tempo, beat_frames = librosa.beat.beat_track(y=wav_stereo[0], sr=sampling_rate)\n"
      ],
      "metadata": {
        "id": "c6BsFeUyFDUf"
      },
      "execution_count": null,
      "outputs": []
    },
    {
      "cell_type": "code",
      "source": [
        "## Filtering functions useful for elevation\n",
        "def butter_lowpass(cutoff, fs, order=5):\n",
        "    nyq = 0.5 * fs\n",
        "    normal_cutoff = cutoff / nyq\n",
        "    b, a = butter(order, normal_cutoff, btype='low', analog=False)\n",
        "    return b, a\n",
        "\n",
        "def butter_lowpass_filter(data, cutoff, fs, order=5):\n",
        "    b, a = butter_lowpass(cutoff, fs, order=order)\n",
        "    y = lfilter(b, a, data)\n",
        "    return y\n",
        "\n",
        "def butter_highpass(cutoff, fs, order=5):\n",
        "    nyq = 0.5 * fs\n",
        "    normal_cutoff = cutoff / nyq\n",
        "    b, a = butter(order, normal_cutoff, btype='high', analog=False)\n",
        "    return b, a\n",
        "\n",
        "def butter_highpass_filter(data, cutoff, fs, order=5):\n",
        "    b, a = butter_lowpass(cutoff, fs, order=order)\n",
        "    y = lfilter(b, a, data)\n",
        "    return y"
      ],
      "metadata": {
        "id": "4Qrb_AWTOTU3"
      },
      "execution_count": 37,
      "outputs": []
    },
    {
      "cell_type": "code",
      "source": [
        "# Used to provide elevations to the music to mock immersivness.\n",
        "def elevation(wav_mono, tempo, sampling_rate):\n",
        "    length = len(wav_mono)\n",
        "    end_of_beat = int((tempo / 120) * sampling_rate)*2\n",
        "\n",
        "    order = 6\n",
        "    fs = 30.0\n",
        "    i = 1\n",
        "    y = np.empty(0)\n",
        "\n",
        "    low = True\n",
        "\n",
        "    while i < length:\n",
        "        #low pass filter with cutoff decreasing\n",
        "        cutoff = 10\n",
        "        y = np.append(y, butter_lowpass_filter(wav_mono[i:i+end_of_beat], cutoff, fs, order))\n",
        "        cutoff = 9.25\n",
        "        y = np.append(y, butter_lowpass_filter(wav_mono[i+end_of_beat-1:i+2*end_of_beat], cutoff, fs, order))\n",
        "        cutoff = 8.75\n",
        "        y = np.append(y, butter_lowpass_filter(wav_mono[i+2*end_of_beat-1:i+3*end_of_beat], cutoff, fs, order))\n",
        "        cutoff = 8\n",
        "        y = np.append(y, butter_lowpass_filter(wav_mono[i+3*end_of_beat-1:i+4*end_of_beat], cutoff, fs, order))\n",
        "\n",
        "        i += 4*end_of_beat\n",
        "\n",
        "        #high pass filter with cutoff increasing\n",
        "        cutoff = 8\n",
        "        y = np.append(y, butter_highpass_filter(wav_mono[i-1:i+end_of_beat], cutoff, fs, order))\n",
        "        cutoff = 8.75\n",
        "        y = np.append(y, butter_highpass_filter(wav_mono[i+end_of_beat-1:i+2*end_of_beat], cutoff, fs, order))\n",
        "        cutoff = 9.25\n",
        "        y = np.append(y, butter_highpass_filter(wav_mono[i+2*end_of_beat-1:i+3*end_of_beat], cutoff, fs, order))\n",
        "        cutoff = 10\n",
        "        y = np.append(y, butter_highpass_filter(wav_mono[i+3*end_of_beat-1:i+4*end_of_beat], cutoff, fs, order))\n",
        "\n",
        "        i += 4*end_of_beat\n",
        "\n",
        "    return y"
      ],
      "metadata": {
        "id": "206DhMcO-ZeF"
      },
      "execution_count": null,
      "outputs": []
    },
    {
      "cell_type": "code",
      "source": [
        "# This function performs the left-right panning and shifting.\n",
        "def convert(inputfile, outputfile='testing.wav', period=200):\n",
        "    if period < 0:\n",
        "        period = period*(-1)\n",
        "    elif period == 0:\n",
        "        period = 100\n",
        "    audio = AudioSegment.from_file(inputfile, format='mp3')\n",
        "    audio = audio + AudioSegment.silent(duration=150)\n",
        "\n",
        "    eightD = AudioSegment.empty()\n",
        "    pan = 0.9*np.sin(np.linspace(0, 2*np.pi, period))\n",
        "    chunks = list(enumerate(audio[::100]))\n",
        "\n",
        "    for i, chunk in tqdm(chunks, desc='Converting', unit='chunks', total=len(chunks)):\n",
        "        if len(chunk) < 100:\n",
        "            continue\n",
        "        newChunk = chunk.pan(pan[i % period])\n",
        "        eightD = eightD + newChunk\n",
        "\n",
        "    eightD.export(outputfile, format=\"wav\")\n",
        "\n"
      ],
      "metadata": {
        "id": "M4F0pdr8FPWk"
      },
      "execution_count": null,
      "outputs": []
    },
    {
      "cell_type": "code",
      "source": [
        "# Sox tools used to add effects to the music file\n",
        "tfm = sox.Transformer()\n",
        "tfm.reverb(reverberance=25)\n",
        "tfm.bass(gain_db=5, slope=0.3)\n",
        "tfm.treble(gain_db=5, slope=.3)\n",
        "tfm.build('/content/testing.wav','reverbtesting.wav')"
      ],
      "metadata": {
        "id": "MLZxxlLPMolj"
      },
      "execution_count": null,
      "outputs": []
    },
    {
      "cell_type": "code",
      "source": [
        "## Python console function lets me play the song here (song saved in the local colab memory)\n",
        "from IPython.display import Audio\n",
        "\n",
        "Audio('reverbtesting.wav')"
      ],
      "metadata": {
        "id": "tmjqhIw4EplH"
      },
      "execution_count": null,
      "outputs": []
    }
  ]
}
